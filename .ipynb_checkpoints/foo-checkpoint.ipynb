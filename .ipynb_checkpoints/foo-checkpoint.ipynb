{
 "cells": [
  {
   "cell_type": "code",
   "execution_count": 4,
   "id": "35be3978-6cc0-4175-8351-02bc08d70f17",
   "metadata": {},
   "outputs": [
    {
     "name": "stdout",
     "output_type": "stream",
     "text": [
      "Khoi, 22\n",
      "I am a parent\n"
     ]
    }
   ],
   "source": [
    "def student_info(name, age, parent = None):\n",
    "    print(f\"{name}, {age}\")\n",
    "    if parent == True:\n",
    "        print(\"I am a parent\")\n",
    "    elif parent == False:\n",
    "        print(\"I am not a parent\")\n",
    "    else:\n",
    "        print(\"Invalid\")\n",
    "\n",
    "def main(name, age, **kwargs):\n",
    "    student_info(name, age, **kwargs)\n",
    "\n",
    "main(\"Khoi\", \"22\", parent = True)"
   ]
  }
 ],
 "metadata": {
  "kernelspec": {
   "display_name": "Python 3 (ipykernel)",
   "language": "python",
   "name": "python3"
  },
  "language_info": {
   "codemirror_mode": {
    "name": "ipython",
    "version": 3
   },
   "file_extension": ".py",
   "mimetype": "text/x-python",
   "name": "python",
   "nbconvert_exporter": "python",
   "pygments_lexer": "ipython3",
   "version": "3.9.7"
  }
 },
 "nbformat": 4,
 "nbformat_minor": 5
}
